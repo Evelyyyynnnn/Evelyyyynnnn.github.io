{
 "cells": [
  {
   "cell_type": "markdown",
   "metadata": {},
   "source": [
    "## 数据结构"
   ]
  },
  {
   "cell_type": "markdown",
   "metadata": {},
   "source": [
    "## 概述\n",
    "### stack:讲顺序，单一方向：先进先出\n",
    "### heap:heap[0]堆顶元素始终是最小的元素，均是push/pop\n",
    "stack=Stack()\n",
    "stack.push(1) #压入为顶元素\n",
    "stack.pop() #弹出最后一个元素\n",
    "\n",
    "### queue:双向，讲顺序\n",
    "queue=Queue()\n",
    "queue.append(1)#尾部加1\n",
    "queue.appendleft(1)\n",
    "queue.popleft()#左端弹出\n",
    "queue.pop()#右端弹出\n",
    "\n",
    "### bag/set/List不讲顺序\n",
    "bag=Bag()\n",
    "bag.add(1)\n",
    "bag.remove(1)\n",
    "\n",
    "set.remove(1)\n",
    "set.add(1)\n",
    "\n",
    "list.add\n",
    "list.remove\n",
    "list.disregard#即时不存在也不报错"
   ]
  },
  {
   "cell_type": "markdown",
   "metadata": {},
   "source": [
    "## 具体内容"
   ]
  },
  {
   "cell_type": "markdown",
   "metadata": {},
   "source": [
    "### Counter计数器"
   ]
  },
  {
   "cell_type": "code",
   "execution_count": 21,
   "metadata": {},
   "outputs": [
    {
     "name": "stdout",
     "output_type": "stream",
     "text": [
      "Counter({2: 2, 1: 1, 3: 1})\n",
      "Counter({1: 2, 2: 2, 3: 1})\n",
      "Counter({2: 2, 3: 1})\n",
      "2 2\n",
      "3 1\n"
     ]
    }
   ],
   "source": [
    "from collections import Counter\n",
    "cnt=Counter([1,2,3,2])\n",
    "print(cnt)\n",
    "# i in cnt\n",
    "cnt[1]+=1\n",
    "print(cnt)\n",
    "# for key,value in cnt.items()\n",
    "cnt.pop(1,None)\n",
    "print(cnt)\n",
    "\n",
    "for key,value in cnt.items():\n",
    "    print(key,value)\n"
   ]
  },
  {
   "cell_type": "markdown",
   "metadata": {},
   "source": [
    "### set and fronzenset"
   ]
  },
  {
   "cell_type": "code",
   "execution_count": 28,
   "metadata": {},
   "outputs": [
    {
     "name": "stdout",
     "output_type": "stream",
     "text": [
      "{1, 2, 3, 4, 5}\n",
      "{1, 2, 4, 5, 6}\n",
      "{1, 2, 4, 5, 6}\n",
      "{1, 2, 3, 4, 5, 6, 7}\n"
     ]
    }
   ],
   "source": [
    "s=set([1,2,3,4,2,5])\n",
    "print(s)\n",
    "# s={1,2,3,4,5}\n",
    "s.add(6)\n",
    "\n",
    "s.remove(3) #non-eixistent element raises an error\n",
    "print(s)\n",
    "s.discard(3) # non-eixistent element does not raise an error\n",
    "print(s)\n",
    "\n",
    "\n",
    "a=set([1,2,3,4,5,5])\n",
    "b=set([2,4,5,6,7])\n",
    "a.update(b) #adds all elements of b to a\n",
    "print(a)\n",
    "\n",
    "s=set()\n",
    "a=set()\n",
    "s.add(frozenset(a)) \n",
    "\n",
    "#frozenset is hashable(immutable) \n",
    "#fronzenstet is a set that cannot be changed;\n",
    "# hashtable objects can be used as keys in dictionaries"
   ]
  },
  {
   "cell_type": "markdown",
   "metadata": {},
   "source": [
    "### Deque"
   ]
  },
  {
   "cell_type": "code",
   "execution_count": 34,
   "metadata": {},
   "outputs": [
    {
     "name": "stdout",
     "output_type": "stream",
     "text": [
      "deque([1, 2, 3], maxlen=3)\n",
      "deque([2, 3, 6], maxlen=3)\n",
      "deque([0, 2, 3], maxlen=3)\n",
      "deque([0, 2], maxlen=3)\n",
      "deque([2], maxlen=3)\n",
      "deque([], maxlen=3)\n",
      "0\n"
     ]
    }
   ],
   "source": [
    "from collections import deque\n",
    "q=deque([1,2,3],maxlen=3)\n",
    "print(q)\n",
    "q.append(6)\n",
    "print(q)\n",
    "q.appendleft(0)\n",
    "print(q)\n",
    "\n",
    "q.pop()\n",
    "print(q)\n",
    "\n",
    "q.popleft()\n",
    "print(q)\n",
    "\n",
    "q.clear()\n",
    "print(q)\n",
    "\n",
    "print(q.count(1))"
   ]
  },
  {
   "cell_type": "markdown",
   "metadata": {},
   "source": [
    "### Heap"
   ]
  },
  {
   "cell_type": "code",
   "execution_count": 36,
   "metadata": {},
   "outputs": [
    {
     "name": "stdout",
     "output_type": "stream",
     "text": [
      "当前堆： [(1, 'apple'), (2, 'banana'), (3, 'cherry')]\n",
      "弹出最小值: 1, apple\n",
      "堆化后的数据: [(1, 2, 'value2'), (1, 2, 'value5'), (2, 1, 'value3'), (1, 3, 'value4'), (1, 3, 'value1')]\n",
      "堆顶元素: (1, 2, 'value2')\n",
      "替换后堆顶元素: (0, 5, 'new_value')\n"
     ]
    }
   ],
   "source": [
    "#heapq.heappush(q,(2,'banana'))\n",
    "#heapq.heappop(q)\n",
    "#heapq.heapify(data)\n",
    "\n",
    "heapq.heapreplace(data,(0,5,'new_value'))\n",
    "\n",
    "import heapq\n",
    "\n",
    "# 创建空堆\n",
    "q = []\n",
    "heapq.heappush(q, (2, \"banana\"))\n",
    "heapq.heappush(q, (1, \"apple\"))\n",
    "heapq.heappush(q, (3, \"cherry\"))\n",
    "\n",
    "print(\"当前堆：\", q)  # 输出：[(1, 'apple'), (2, 'banana'), (3, 'cherry')]\n",
    "\n",
    "# 弹出最小值\n",
    "key, value = heapq.heappop(q)\n",
    "print(f\"弹出最小值: {key}, {value}\")  # 输出：1 apple\n",
    "\n",
    "# 重新创建一个数据集并堆化\n",
    "data = [(1, 3, 'value1'), (1, 2, 'value2'), (2, 1, 'value3'), (1, 3, 'value4'), (1, 2, 'value5')]\n",
    "heapq.heapify(data) #将list转为heap，默认以第一个元素排序，如果第一个一样，则比较第二个\n",
    "print(\"堆化后的数据:\", data)  # 堆顶是最小的元素\n",
    "\n",
    "# 访问堆顶\n",
    "print(\"堆顶元素:\", data[0])\n",
    "\n",
    "# 替换堆顶元素\n",
    "heapq.heapreplace(data, (0, 5, 'new_value'))\n",
    "print(\"替换后堆顶元素:\", data[0])#如果你替换的元素比堆顶元素小，则会破坏堆的性质"
   ]
  },
  {
   "cell_type": "markdown",
   "metadata": {},
   "source": [
    "### OrderedDict"
   ]
  },
  {
   "cell_type": "code",
   "execution_count": 40,
   "metadata": {},
   "outputs": [
    {
     "name": "stdout",
     "output_type": "stream",
     "text": [
      "SortedList([1, 3, 5, 6])\n",
      "SortedList([1, 3, 4, 5, 6])\n",
      "SortedList([1, 3, 5, 6])\n"
     ]
    },
    {
     "data": {
      "text/plain": [
       "2"
      ]
     },
     "execution_count": 40,
     "metadata": {},
     "output_type": "execute_result"
    }
   ],
   "source": [
    "from sortedcontainers import SortedList\n",
    "st=SortedList([5,6,1,3])\n",
    "print(st)\n",
    "st.add(4)\n",
    "print(st)\n",
    "st.discard(4)\n",
    "print(st)\n",
    "st.bisect(3)"
   ]
  },
  {
   "cell_type": "markdown",
   "metadata": {},
   "source": [
    "## Operation "
   ]
  },
  {
   "cell_type": "code",
   "execution_count": 51,
   "metadata": {},
   "outputs": [
    {
     "data": {
      "text/plain": [
       "[1, 3, 6]"
      ]
     },
     "execution_count": 51,
     "metadata": {},
     "output_type": "execute_result"
    }
   ],
   "source": [
    "### 前缀和\n",
    "import itertools\n",
    "nums=[1,2,3]\n",
    "list(itertools.accumulate(nums))"
   ]
  },
  {
   "cell_type": "code",
   "execution_count": 52,
   "metadata": {},
   "outputs": [
    {
     "name": "stdout",
     "output_type": "stream",
     "text": [
      "25\n",
      "25\n"
     ]
    }
   ],
   "source": [
    "#缓存结果\n",
    "from functools import lru_cache\n",
    "\n",
    "@lru_cache(maxsize=None)\n",
    "def my_function(x):\n",
    "    return x * x\n",
    "\n",
    "print(my_function(5))  # 第一次计算，缓存结果\n",
    "print(my_function(5))  # 第二次调用，直接从缓存获取结果"
   ]
  },
  {
   "cell_type": "markdown",
   "metadata": {},
   "source": [
    "sorted"
   ]
  },
  {
   "cell_type": "code",
   "execution_count": 58,
   "metadata": {},
   "outputs": [
    {
     "name": "stdout",
     "output_type": "stream",
     "text": [
      "[[0, 4], [3, 6], [3, 5]]\n",
      "[[0, 4], [3, 6], [3, 5]]\n",
      "[[0, 4], [3, 5], [3, 6]]\n"
     ]
    }
   ],
   "source": [
    "intervals=[[3,6],[0,4],[3,5]]\n",
    "#原地排序\n",
    "intervals.sort(key=lambda x:x[0])\n",
    "print(intervals)\n",
    "\n",
    "#非原地排序\n",
    "sorted_intervals=sorted(intervals,key=lambda x:x[0])\n",
    "print(sorted_intervals)\n",
    "\n",
    "intervals.sort(key=lambda x:(x[0],x[1]))\n",
    "print(intervals)\n",
    "sorted_intervals=sorted(intervals,key=lambda x:(x[0],x[1]))\n"
   ]
  },
  {
   "cell_type": "markdown",
   "metadata": {},
   "source": [
    "Copy.deepcopy"
   ]
  },
  {
   "cell_type": "code",
   "execution_count": null,
   "metadata": {},
   "outputs": [],
   "source": [
    "data.copy(deep=True)\n",
    "data.copy()"
   ]
  },
  {
   "cell_type": "markdown",
   "metadata": {},
   "source": [
    "pair"
   ]
  },
  {
   "cell_type": "code",
   "execution_count": 59,
   "metadata": {},
   "outputs": [
    {
     "name": "stdout",
     "output_type": "stream",
     "text": [
      "(1, 2)\n",
      "(2, 3)\n",
      "(3, 4)\n"
     ]
    }
   ],
   "source": [
    "from itertools import pairwise\n",
    "nums=[1,2,3,4]\n",
    "for pair in pairwise(nums):\n",
    "    print(pair)"
   ]
  },
  {
   "cell_type": "code",
   "execution_count": null,
   "metadata": {},
   "outputs": [],
   "source": [
    "#无穷大，无穷小\n",
    "from math import inf\n",
    "inf\n",
    "-inf"
   ]
  },
  {
   "cell_type": "code",
   "execution_count": null,
   "metadata": {},
   "outputs": [],
   "source": [
    "#Int的bit位\n",
    "k.bit_length()"
   ]
  },
  {
   "cell_type": "code",
   "execution_count": null,
   "metadata": {},
   "outputs": [],
   "source": [
    "#binary search\n",
    "from bisect import bisect_left,bisect_right\n",
    "arr=[1,23,45,67,89]\n",
    "target=45\n",
    "print(bisect_left(arr,target))#左侧为实际索引处\n",
    "print(bisect_right(arr,target))#右侧为下一个索引处"
   ]
  },
  {
   "cell_type": "code",
   "execution_count": 67,
   "metadata": {},
   "outputs": [
    {
     "name": "stdout",
     "output_type": "stream",
     "text": [
      "True\n",
      "False\n",
      "True\n",
      "False\n",
      "True\n",
      "True\n",
      "True\n",
      "True\n",
      "False\n",
      "False\n"
     ]
    }
   ],
   "source": [
    "print(all([True,True,True]))\n",
    "print(all([True,False,True]))\n",
    "print(all([1,2,3]))\n",
    "print(all([0,1,2]))#0 is False in boolean\n",
    "print(all([]))\n",
    "\n",
    "\n",
    "print(any([True,True,True])) #True\n",
    "print(any([True,False,True])) #False\n",
    "print(any([1,2,3])) # True\n",
    "print(any([0,0,0])) # True\n",
    "print(any([])) #False\n"
   ]
  },
  {
   "cell_type": "code",
   "execution_count": 71,
   "metadata": {},
   "outputs": [
    {
     "name": "stdout",
     "output_type": "stream",
     "text": [
      "0\n",
      "2\n"
     ]
    }
   ],
   "source": [
    "#商和余数\n",
    "\n",
    "q,r=divmod(2,10)\n",
    "print(q) #商\n",
    "print(r) #余数"
   ]
  },
  {
   "cell_type": "code",
   "execution_count": 77,
   "metadata": {},
   "outputs": [
    {
     "name": "stdout",
     "output_type": "stream",
     "text": [
      "[(1, 1), (1, 2), (1, 3), (2, 1), (2, 2), (2, 3), (3, 1), (3, 2), (3, 3)]\n"
     ]
    }
   ],
   "source": [
    "#排列组合笛卡尔乘积\n",
    "a=[1,2,3]\n",
    "from itertools import product\n",
    "print(list(product(a,repeat=2)))"
   ]
  },
  {
   "cell_type": "code",
   "execution_count": 80,
   "metadata": {},
   "outputs": [
    {
     "name": "stdout",
     "output_type": "stream",
     "text": [
      "Word: abc, Binary Mask: 0b111\n",
      "Word: de, Binary Mask: 0b11000\n",
      "Word: fgh, Binary Mask: 0b11100000\n"
     ]
    }
   ],
   "source": [
    "# reduce累计结果\n",
    "\n",
    "from functools import reduce\n",
    "words=['abc','de','fgh']\n",
    "for word in words:\n",
    "    mask=reduce(lambda a,b:a | (1<<(ord(b)-ord('a'))),word,0)\n",
    "    print(f\"Word: {word}, Binary Mask: {bin(mask)}\")"
   ]
  },
  {
   "cell_type": "code",
   "execution_count": null,
   "metadata": {},
   "outputs": [],
   "source": []
  },
  {
   "cell_type": "code",
   "execution_count": null,
   "metadata": {},
   "outputs": [],
   "source": []
  },
  {
   "cell_type": "code",
   "execution_count": null,
   "metadata": {},
   "outputs": [],
   "source": []
  },
  {
   "cell_type": "code",
   "execution_count": null,
   "metadata": {},
   "outputs": [],
   "source": []
  },
  {
   "cell_type": "code",
   "execution_count": null,
   "metadata": {},
   "outputs": [],
   "source": []
  },
  {
   "cell_type": "code",
   "execution_count": null,
   "metadata": {},
   "outputs": [],
   "source": []
  }
 ],
 "metadata": {
  "kernelspec": {
   "display_name": "base",
   "language": "python",
   "name": "python3"
  },
  "language_info": {
   "codemirror_mode": {
    "name": "ipython",
    "version": 3
   },
   "file_extension": ".py",
   "mimetype": "text/x-python",
   "name": "python",
   "nbconvert_exporter": "python",
   "pygments_lexer": "ipython3",
   "version": "3.12.7"
  }
 },
 "nbformat": 4,
 "nbformat_minor": 2
}
