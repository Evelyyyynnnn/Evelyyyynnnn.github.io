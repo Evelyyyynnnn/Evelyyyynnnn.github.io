{
 "cells": [
  {
   "cell_type": "markdown",
   "metadata": {},
   "source": [
    "Question 1:在一条单行道上，有n只乌龟向同一个方向爬行。他们的初始速度各不相同，可以假设分别为1(cm/s),2(cm/s).…n(cm/s),(假定vi小于vj,如果i小于j的话)且初始位置完全随机。由于是单行道，当后方的乌龟追上前方乌龟时，它将不得不减速，然后紧跟着前方乌龟爬行，形成一个小组。经过足够长的时间，乌龟们会分成多少组?"
   ]
  },
  {
   "cell_type": "code",
   "execution_count": 27,
   "metadata": {},
   "outputs": [
    {
     "name": "stdout",
     "output_type": "stream",
     "text": [
      "3 [(3, 1), (1, 3), (2, 6), (4, 8), (0, 10)] (3, 1) (1, 3)\n"
     ]
    }
   ],
   "source": [
    "location=[10,3,6,1,8]\n",
    "location=[(i,location[i]) for i in range(len(location))]\n",
    "location.sort(key=lambda x: x[1])\n",
    "group=len(location)\n",
    "\n",
    "for i in range(len(location)-1):\n",
    "    j=i+1\n",
    "    if location[i][0]>location[j][0]:\n",
    "        group-=1\n",
    "    i+=1\n",
    "\n",
    "print(group,location,location[0],location[1])\n",
    "\n",
    "\n",
    "#i:velocity;location[i]:position"
   ]
  },
  {
   "cell_type": "code",
   "execution_count": null,
   "metadata": {},
   "outputs": [],
   "source": []
  },
  {
   "cell_type": "code",
   "execution_count": null,
   "metadata": {},
   "outputs": [],
   "source": []
  }
 ],
 "metadata": {
  "kernelspec": {
   "display_name": "base",
   "language": "python",
   "name": "python3"
  },
  "language_info": {
   "codemirror_mode": {
    "name": "ipython",
    "version": 3
   },
   "file_extension": ".py",
   "mimetype": "text/x-python",
   "name": "python",
   "nbconvert_exporter": "python",
   "pygments_lexer": "ipython3",
   "version": "3.12.7"
  }
 },
 "nbformat": 4,
 "nbformat_minor": 2
}
